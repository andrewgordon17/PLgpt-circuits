{
 "cells": [
  {
   "cell_type": "code",
   "execution_count": 3,
   "id": "c5fc037a-65bc-4d61-bbaa-07074fb81979",
   "metadata": {},
   "outputs": [],
   "source": [
    "import sys\n",
    "sys.path.append('/root/PLgpt-circuits')"
   ]
  },
  {
   "cell_type": "code",
   "execution_count": 23,
   "id": "b86f7d71-ea27-4587-9091-7a1bdde70eed",
   "metadata": {},
   "outputs": [],
   "source": [
    "from models.sparsified import SparsifiedGPTOutput, SparsifiedGPT\n",
    "import torch as t\n",
    "from config.gpt.training import options\n",
    "from config.sae.models import sae_options\n",
    "\n",
    "\n",
    "\n",
    "from data.tokenizers import ASCIITokenizer, TikTokenTokenizer\n",
    "\n",
    "from models.sae import SparseAutoencoder\n",
    "from typing import Callable\n",
    "\n",
    "from data.dataloaders import TrainingDataLoader"
   ]
  },
  {
   "cell_type": "code",
   "execution_count": 13,
   "id": "5fabc0cf-4d40-42b1-95d4-5c640e04c557",
   "metadata": {},
   "outputs": [],
   "source": [
    "path = '../checkpoints/'"
   ]
  },
  {
   "cell_type": "code",
   "execution_count": 20,
   "id": "a5630925-5969-4512-83b8-169b8794a5eb",
   "metadata": {},
   "outputs": [
    {
     "data": {
      "text/plain": [
       "SparsifiedGPT(\n",
       "  (gpt): GPT(\n",
       "    (transformer): ModuleDict(\n",
       "      (wte): Embedding(128, 64)\n",
       "      (wpe): Embedding(128, 64)\n",
       "      (h): ModuleList(\n",
       "        (0-3): 4 x Block(\n",
       "          (ln_1): LayerNorm((64,), eps=1e-05, elementwise_affine=True)\n",
       "          (attn): CausalSelfAttention(\n",
       "            (c_attn): Linear(in_features=64, out_features=192, bias=True)\n",
       "            (c_proj): Linear(in_features=64, out_features=64, bias=True)\n",
       "          )\n",
       "          (ln_2): LayerNorm((64,), eps=1e-05, elementwise_affine=True)\n",
       "          (mlp): MLP(\n",
       "            (c_fc): Linear(in_features=64, out_features=256, bias=True)\n",
       "            (gelu): GELU(approximate='tanh')\n",
       "            (c_proj): Linear(in_features=256, out_features=64, bias=True)\n",
       "          )\n",
       "        )\n",
       "      )\n",
       "      (ln_f): LayerNorm((64,), eps=1e-05, elementwise_affine=True)\n",
       "    )\n",
       "    (lm_head): Linear(in_features=64, out_features=128, bias=False)\n",
       "  )\n",
       "  (saes): ModuleDict(\n",
       "    (0): StandardSLRAE()\n",
       "    (1): StandardSLRAE()\n",
       "    (2): StandardSLRAE()\n",
       "    (3): StandardSLRAE()\n",
       "    (4): StandardSLRAE()\n",
       "  )\n",
       ")"
      ]
     },
     "execution_count": 20,
     "metadata": {},
     "output_type": "execute_result"
    }
   ],
   "source": [
    "SparsifiedGPT.load(path + 'SLRAE-rank0')"
   ]
  },
  {
   "cell_type": "code",
   "execution_count": 17,
   "id": "5fbef90a-508e-4392-8659-8694c634e7fa",
   "metadata": {},
   "outputs": [],
   "source": [
    "SLRAES = {}"
   ]
  },
  {
   "cell_type": "code",
   "execution_count": 21,
   "id": "3304223f-1846-4526-b1fb-2547e37593e3",
   "metadata": {},
   "outputs": [],
   "source": [
    "for i in range(10):\n",
    "    SLRAES[i] = SparsifiedGPT.load(path + f'SLRAE-rank{i}')"
   ]
  },
  {
   "cell_type": "code",
   "execution_count": 24,
   "id": "8539e8d1-ffcd-4546-9770-c1433764f93a",
   "metadata": {},
   "outputs": [
    {
     "data": {
      "text/plain": [
       "128"
      ]
     },
     "execution_count": 24,
     "metadata": {},
     "output_type": "execute_result"
    }
   ],
   "source": [
    "SLRAES[0].config.block_size"
   ]
  },
  {
   "cell_type": "code",
   "execution_count": 25,
   "id": "ef0fed85-e05b-4e0c-8b7a-07b533dcc02f",
   "metadata": {},
   "outputs": [
    {
     "ename": "NameError",
     "evalue": "name 'config' is not defined",
     "output_type": "error",
     "traceback": [
      "\u001b[0;31m---------------------------------------------------------------------------\u001b[0m",
      "\u001b[0;31mNameError\u001b[0m                                 Traceback (most recent call last)",
      "Cell \u001b[0;32mIn[25], line 22\u001b[0m\n\u001b[1;32m     20\u001b[0m     ddp_local_rank \u001b[38;5;241m=\u001b[39m \u001b[38;5;241m0\u001b[39m\n\u001b[1;32m     21\u001b[0m     ddp_world_size \u001b[38;5;241m=\u001b[39m \u001b[38;5;241m1\u001b[39m\n\u001b[0;32m---> 22\u001b[0m     device \u001b[38;5;241m=\u001b[39m \u001b[43mconfig\u001b[49m\u001b[38;5;241m.\u001b[39mdevice\n\u001b[1;32m     24\u001b[0m dataloader \u001b[38;5;241m=\u001b[39m TrainingDataLoader(\n\u001b[1;32m     25\u001b[0m     dir_path\u001b[38;5;241m=\u001b[39mdata_dir,\n\u001b[1;32m     26\u001b[0m     B\u001b[38;5;241m=\u001b[39m batch_size,\n\u001b[0;32m   (...)\u001b[0m\n\u001b[1;32m     30\u001b[0m     split\u001b[38;5;241m=\u001b[39m\u001b[38;5;124m\"\u001b[39m\u001b[38;5;124mval\u001b[39m\u001b[38;5;124m\"\u001b[39m,\n\u001b[1;32m     31\u001b[0m )\n",
      "\u001b[0;31mNameError\u001b[0m: name 'config' is not defined"
     ]
    }
   ],
   "source": [
    "\n",
    "block_size = SLRAES[0].config.block_size\n",
    "batch_size = 32\n",
    "\n",
    "\n",
    "\n",
    "#copied from Peter's training code\n",
    "ddp = int(os.environ.get(\"RANK\", -1)) != -1  # is this a ddp run?\n",
    "if ddp:\n",
    "    # use of DDP atm demands CUDA, we set the device appropriately according to rank\n",
    "    ddp_rank = int(os.environ[\"RANK\"])\n",
    "    ddp_local_rank = int(os.environ[\"LOCAL_RANK\"])\n",
    "    ddp_world_size = int(os.environ[\"WORLD_SIZE\"])\n",
    "    device = t.device(f\"cuda:{ddp_local_rank}\")\n",
    "\n",
    "    assert t.cuda.is_available()\n",
    "    t.cuda.set_device(device)\n",
    "else:\n",
    "    # vanilla, non-DDP run\n",
    "    ddp_rank = 0\n",
    "    ddp_local_rank = 0\n",
    "    ddp_world_size = 1\n",
    "    device = SLRAES[0].config.device\n",
    "\n",
    "dataloader = TrainingDataLoader(\n",
    "    dir_path=data_dir,\n",
    "    B= batch_size,\n",
    "    T=model.config.block_size,\n",
    "    process_rank=ddp_rank,\n",
    "    num_processes=ddp_world_size,\n",
    "    split=\"val\",\n",
    ")"
   ]
  },
  {
   "cell_type": "code",
   "execution_count": null,
   "id": "257b8378-bac9-41e2-af49-de326c3b2662",
   "metadata": {},
   "outputs": [],
   "source": []
  }
 ],
 "metadata": {
  "kernelspec": {
   "display_name": "Python 3 (ipykernel)",
   "language": "python",
   "name": "python3"
  },
  "language_info": {
   "codemirror_mode": {
    "name": "ipython",
    "version": 3
   },
   "file_extension": ".py",
   "mimetype": "text/x-python",
   "name": "python",
   "nbconvert_exporter": "python",
   "pygments_lexer": "ipython3",
   "version": "3.10.12"
  }
 },
 "nbformat": 4,
 "nbformat_minor": 5
}
